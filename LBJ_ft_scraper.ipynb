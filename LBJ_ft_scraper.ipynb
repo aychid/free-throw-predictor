{
 "cells": [
  {
   "cell_type": "markdown",
   "metadata": {},
   "source": [
    "Author: Aydin Najl Hossaini  \n",
    "Date: 24/08/2024"
   ]
  },
  {
   "cell_type": "markdown",
   "metadata": {},
   "source": [
    "# Imports"
   ]
  },
  {
   "cell_type": "code",
   "execution_count": 28,
   "metadata": {},
   "outputs": [],
   "source": [
    "import pandas as pd\n",
    "from tqdm.notebook import tqdm\n",
    "import os\n",
    "from sklearn.preprocessing import MinMaxScaler\n"
   ]
  },
  {
   "cell_type": "code",
   "execution_count": 2,
   "metadata": {},
   "outputs": [],
   "source": [
    "# All game ids in pbp_games folder\n",
    "game_names = [name for name in os.listdir(\"pbp_games\") if name.endswith(\"csv\")]\n",
    "\n",
    "game_ids = [id for id in range(1, len(game_names) + 1)]\n",
    "game_id_map = dict(zip(game_names, game_ids))\n",
    "\n"
   ]
  },
  {
   "cell_type": "markdown",
   "metadata": {},
   "source": [
    "# Data processing"
   ]
  },
  {
   "cell_type": "markdown",
   "metadata": {},
   "source": [
    "## Options"
   ]
  },
  {
   "cell_type": "code",
   "execution_count": 3,
   "metadata": {},
   "outputs": [],
   "source": [
    "pd.options.mode.copy_on_write = True # Allows for chained assignment \n",
    "LBJ_life_ft_percent = 73.6"
   ]
  },
  {
   "cell_type": "markdown",
   "metadata": {},
   "source": [
    "## Game ids"
   ]
  },
  {
   "cell_type": "code",
   "execution_count": 4,
   "metadata": {},
   "outputs": [],
   "source": [
    "# All game ids in pbp_games folder\n",
    "game_names = [name for name in os.listdir(\"pbp_games\") if name.endswith(\"csv\")]\n",
    "\n",
    "game_ids = [id for id in range(1, len(game_names) + 1)]\n",
    "game_id_map = dict(zip(game_names, game_ids))\n"
   ]
  },
  {
   "cell_type": "code",
   "execution_count": 5,
   "metadata": {},
   "outputs": [
    {
     "name": "stdout",
     "output_type": "stream",
     "text": [
      "<class 'pandas.core.frame.DataFrame'>\n",
      "RangeIndex: 432 entries, 0 to 431\n",
      "Data columns (total 9 columns):\n",
      " #   Column                       Non-Null Count  Dtype  \n",
      "---  ------                       --------------  -----  \n",
      " 0   period                       432 non-null    int64  \n",
      " 1   period_type                  432 non-null    object \n",
      " 2   remaining_seconds_in_period  432 non-null    float64\n",
      " 3   relevant_team                432 non-null    object \n",
      " 4   away_team                    432 non-null    object \n",
      " 5   home_team                    432 non-null    object \n",
      " 6   away_score                   432 non-null    int64  \n",
      " 7   home_score                   432 non-null    int64  \n",
      " 8   description                  432 non-null    object \n",
      "dtypes: float64(1), int64(3), object(5)\n",
      "memory usage: 30.5+ KB\n"
     ]
    }
   ],
   "source": [
    "# Test one game\n",
    "game = pd.read_csv(\"pbp_games/2017_11_7_CLE_PBP_HOME.csv\")\n",
    "game.info()\n"
   ]
  },
  {
   "cell_type": "code",
   "execution_count": 6,
   "metadata": {},
   "outputs": [],
   "source": [
    "\n",
    "# TODO: Add game id column to each game\n",
    "\n",
    "# for name, id in game_id_map.items():\n",
    "#     game = pd.read_csv(\"pbp_games/\" + name)\n",
    "#     game[\"game_id\"] = id\n",
    "    \n"
   ]
  },
  {
   "cell_type": "markdown",
   "metadata": {},
   "source": [
    "## Decide on features\n",
    " 1. Time remaining in the quarter\n",
    " 2. Score difference\n",
    " 3. Home/Away team\n",
    " 4. Period\n",
    " 5. how many made shots in the game (=FG%)  \n",
    "     Obtain this through the description column and filter for \"makes\" and \"misses\" on player level\n",
    "        Notable words:  \n",
    "        misses 2-pt  \n",
    "        misses 3-pt  \n",
    "        misses free throw  \n",
    "        makes free throw  \n",
    "        makes 2-pt  \n",
    "        makes 3-pt  \n",
    "6. minutes played\n"
   ]
  },
  {
   "cell_type": "code",
   "execution_count": 7,
   "metadata": {},
   "outputs": [],
   "source": [
    "# Add unique event id for join\n",
    "def add_event_id_col(game : pd.DataFrame):\n",
    "    game[\"event_id\"] = range(1, len(game) + 1)\n",
    "    return game"
   ]
  },
  {
   "cell_type": "code",
   "execution_count": 8,
   "metadata": {},
   "outputs": [],
   "source": [
    "# Transfer period type + remaining_seconds_in_period to a time format\n",
    "# Full quarter has 720 seconds, therefore 720 - remaining_seconds_in_period = seconds played in the quarter\n",
    "# If quarter is 2, 2*720 - remaining_seconds_in_period ;  3 + 3*720 - ..., 4 + 4*720 - ... \n",
    "# Adds game_time passed column\n",
    "def add_game_time_col(game: pd.DataFrame):\n",
    "    game[\"game_time\"] = game.apply(lambda x: x['period']*720 - x['remaining_seconds_in_period'], axis=1)\n",
    "    return game"
   ]
  },
  {
   "cell_type": "markdown",
   "metadata": {},
   "source": [
    "## Add score difference column"
   ]
  },
  {
   "cell_type": "code",
   "execution_count": 9,
   "metadata": {},
   "outputs": [],
   "source": [
    "# Necessary function due to some games played away\n",
    "def game_diff(row):\n",
    "    \"\"\" Calculate the score difference for each game \"\"\"\n",
    "\n",
    "    if row[\"home_team\"] == \"CLEVELAND CAVALIERS\":\n",
    "        return row[\"home_score\"] - row[\"away_score\"]\n",
    "    elif row[\"away_team\"] == \"CLEVELAND CAVALIERS\":\n",
    "        return row[\"away_score\"] - row[\"home_score\"]\n",
    "    else:\n",
    "        raise Exception(\"Cavs not in the game\")\n",
    "    \n",
    "# Adds score diff column\n",
    "def add_score_diff_col(game: pd.DataFrame):\n",
    "    game[\"score_diff\"] = game.apply(game_diff, axis=1)\n",
    "    return game"
   ]
  },
  {
   "cell_type": "markdown",
   "metadata": {},
   "source": [
    "## Plays at home column"
   ]
  },
  {
   "cell_type": "code",
   "execution_count": 10,
   "metadata": {},
   "outputs": [],
   "source": [
    "# Adds at_home column\n",
    "def add_at_home_col(game: pd.DataFrame):\n",
    "    game[\"at_home\"] = game[\"home_team\"] == \"CLEVELAND CAVALIERS\"\n",
    "    return game"
   ]
  },
  {
   "cell_type": "code",
   "execution_count": 11,
   "metadata": {},
   "outputs": [],
   "source": [
    "# Playing time very hard to quantify due to starters and starters of quarters being unknown\n",
    "\n",
    "# game[game[\"description\"].str.contains(\"enters the game for L. James\")]\n",
    "# game[game[\"description\"].str.contains(\"L. James enters the game for\")]\n"
   ]
  },
  {
   "cell_type": "markdown",
   "metadata": {},
   "source": [
    "## Calculating cum FGM with new DF"
   ]
  },
  {
   "cell_type": "code",
   "execution_count": 12,
   "metadata": {},
   "outputs": [],
   "source": [
    "def create_fg_df(game: pd.DataFrame):\n",
    "    '''\n",
    "    Selects Lebron FGs based on keywords and adds cumulative count of FGs as column\n",
    "    '''\n",
    "    # Selects all the field goals made by Lebron\n",
    "    field_goals = game[game[\"description\"].str.contains(\"L. James\") & game[\"relevant_team\"].str.contains(\"CLE\") \n",
    "                    &~ game[\"description\"].str.contains(\"assist by L. James\") &~ game[\"description\"].str.contains(\"free throw\")]\n",
    "        \n",
    "\n",
    "    made_mask = field_goals['description'].str.contains('makes 2-pt|makes 3-pt')\n",
    "    attempted_mask = field_goals['description'].str.contains('makes 2-pt|misses 2-pt|makes 3-pt|misses 3-pt')\n",
    "\n",
    "    # Adds field goals made and attempted columns\n",
    "    field_goals.loc[:, 'field_goals_made'] = made_mask.astype(int)\n",
    "    field_goals.loc[:, 'field_goals_attempted'] = attempted_mask.astype(int)\n",
    "\n",
    "    # Create cumulative totals columns using .loc\n",
    "    field_goals.loc[:, 'cumulative_field_goals_made'] = field_goals['field_goals_made'].cumsum()\n",
    "    field_goals.loc[:, 'cumulative_field_goals_attempted'] = field_goals['field_goals_attempted'].cumsum()\n",
    "    \n",
    "    return field_goals"
   ]
  },
  {
   "cell_type": "markdown",
   "metadata": {},
   "source": [
    "## Merge dataframes to contain all features"
   ]
  },
  {
   "cell_type": "code",
   "execution_count": 13,
   "metadata": {},
   "outputs": [],
   "source": [
    "def add_fg_cols(game: pd.DataFrame):\n",
    "    '''\n",
    "    Create new Dataframe including cum FGM and cum FGA\n",
    "    '''\n",
    "    # Create new DF with FGs \n",
    "    field_goals = create_fg_df(game)\n",
    "\n",
    "    # Merge the game and field goals dataframes to get the cumulative field goals made and attempted\n",
    "    joined_df = pd.merge(game, \n",
    "                        field_goals[['event_id', 'cumulative_field_goals_made', 'cumulative_field_goals_attempted']],\n",
    "                        on='event_id', \n",
    "                        how='left')\n",
    "\n",
    "    # Forward fill the NaN values so highest number is used\n",
    "    joined_df['cumulative_field_goals_made'] = joined_df['cumulative_field_goals_made'].ffill().fillna(0)\n",
    "    joined_df['cumulative_field_goals_attempted'] = joined_df['cumulative_field_goals_attempted'].ffill().fillna(0)\n",
    "    \n",
    "    return joined_df\n"
   ]
  },
  {
   "cell_type": "markdown",
   "metadata": {},
   "source": [
    "## Select free throws rows for prediction"
   ]
  },
  {
   "cell_type": "code",
   "execution_count": 14,
   "metadata": {},
   "outputs": [],
   "source": [
    "def create_ft_df(joined_df: pd.DataFrame):\n",
    "\n",
    "    # Select all the free throws attempted by Lebron\n",
    "    joined_df[joined_df[\"description\"].str.contains(\"L. James\") & joined_df[\"description\"].str.contains(\"free throw\")] # 2. Lebron made 8 free throws in the game\n",
    "    \n",
    "    # If madea free throw is in the description, add a column free_throw_made\n",
    "    joined_df[\"free_throw_made\"] = joined_df[\"description\"].str.contains(\"makes free throw\").astype(int)\n",
    "\n",
    "    free_throws = joined_df[joined_df[\"description\"].str.contains(\"L. James\") & joined_df[\"description\"].str.contains(\"free throw\")]\n",
    "\n",
    "    return free_throws"
   ]
  },
  {
   "cell_type": "code",
   "execution_count": 15,
   "metadata": {},
   "outputs": [],
   "source": [
    "def preprocess_game(game: pd.DataFrame):\n",
    "    '''\n",
    "    Adds multiple columns to the dataframe\n",
    "    '''\n",
    "    game = add_event_id_col(game)\n",
    "    game = add_game_time_col(game)\n",
    "    game = add_score_diff_col(game)\n",
    "    game = add_at_home_col(game)\n",
    "    return game\n",
    "\n",
    "game = preprocess_game(game)\n",
    "joined_df = add_fg_cols(game)\n",
    "free_throws = create_ft_df(joined_df)\n",
    "\n",
    "# free_throws"
   ]
  },
  {
   "cell_type": "markdown",
   "metadata": {},
   "source": [
    "## Multigame preprocessing"
   ]
  },
  {
   "cell_type": "code",
   "execution_count": 71,
   "metadata": {},
   "outputs": [],
   "source": [
    "def drop_cols(df):\n",
    "    columns = ['away_team', 'home_team', 'away_score', 'home_score', 'description', 'relevant_team', 'period_type', \"event_id\"]\n",
    "    df[\"at_home\"] = df[\"at_home\"].astype(int)\n",
    "    return df.drop(columns=columns)\n",
    "\n",
    "def scale_cols(df):\n",
    "    cols_to_scale = ['remaining_seconds_in_period', 'score_diff', \n",
    "                 'cumulative_field_goals_made', 'cumulative_field_goals_attempted',\n",
    "                 'game_time']\n",
    "    df[cols_to_scale] = MinMaxScaler().fit_transform(df[cols_to_scale])\n",
    "    return df\n",
    "\n",
    "def one_hot_encode(df):\n",
    "    all_periods = [1,2,3,4]\n",
    "    dum_df = pd.get_dummies(df[\"period\"], prefix=\"period\", dtype=int).reindex(columns=[f\"period_{p}\" for p in all_periods], fill_value=0)\n",
    "    dum_df = dum_df.join(df)\n",
    "    df = dum_df.drop(columns=[\"period\"])\n",
    "    return df"
   ]
  },
  {
   "cell_type": "code",
   "execution_count": 72,
   "metadata": {},
   "outputs": [],
   "source": [
    "agglomerated_df = pd.DataFrame()\n",
    "\n",
    "for game, id in game_id_map.items():\n",
    "    game = pd.read_csv(\"pbp_games/\" + game)\n",
    "    game = preprocess_game(game)\n",
    "    joined_df = add_fg_cols(game)\n",
    "    free_throws = create_ft_df(joined_df)\n",
    "    X= drop_cols(free_throws)\n",
    "    X = scale_cols(X)\n",
    "    X = one_hot_encode(X)\n",
    "    agglomerated_df = pd.concat([agglomerated_df, X])\n",
    "\n"
   ]
  },
  {
   "cell_type": "code",
   "execution_count": 73,
   "metadata": {},
   "outputs": [
    {
     "data": {
      "text/html": [
       "<div>\n",
       "<style scoped>\n",
       "    .dataframe tbody tr th:only-of-type {\n",
       "        vertical-align: middle;\n",
       "    }\n",
       "\n",
       "    .dataframe tbody tr th {\n",
       "        vertical-align: top;\n",
       "    }\n",
       "\n",
       "    .dataframe thead th {\n",
       "        text-align: right;\n",
       "    }\n",
       "</style>\n",
       "<table border=\"1\" class=\"dataframe\">\n",
       "  <thead>\n",
       "    <tr style=\"text-align: right;\">\n",
       "      <th></th>\n",
       "      <th>period_1</th>\n",
       "      <th>period_2</th>\n",
       "      <th>period_3</th>\n",
       "      <th>period_4</th>\n",
       "      <th>remaining_seconds_in_period</th>\n",
       "      <th>game_time</th>\n",
       "      <th>score_diff</th>\n",
       "      <th>at_home</th>\n",
       "      <th>cumulative_field_goals_made</th>\n",
       "      <th>cumulative_field_goals_attempted</th>\n",
       "      <th>free_throw_made</th>\n",
       "    </tr>\n",
       "  </thead>\n",
       "  <tbody>\n",
       "    <tr>\n",
       "      <th>157</th>\n",
       "      <td>0</td>\n",
       "      <td>1</td>\n",
       "      <td>0</td>\n",
       "      <td>0</td>\n",
       "      <td>0.0</td>\n",
       "      <td>0.0</td>\n",
       "      <td>0.923077</td>\n",
       "      <td>1</td>\n",
       "      <td>0.0</td>\n",
       "      <td>0.0</td>\n",
       "      <td>1</td>\n",
       "    </tr>\n",
       "    <tr>\n",
       "      <th>158</th>\n",
       "      <td>0</td>\n",
       "      <td>1</td>\n",
       "      <td>0</td>\n",
       "      <td>0</td>\n",
       "      <td>0.0</td>\n",
       "      <td>0.0</td>\n",
       "      <td>1.000000</td>\n",
       "      <td>1</td>\n",
       "      <td>0.0</td>\n",
       "      <td>0.0</td>\n",
       "      <td>1</td>\n",
       "    </tr>\n",
       "    <tr>\n",
       "      <th>384</th>\n",
       "      <td>0</td>\n",
       "      <td>0</td>\n",
       "      <td>0</td>\n",
       "      <td>1</td>\n",
       "      <td>1.0</td>\n",
       "      <td>1.0</td>\n",
       "      <td>0.000000</td>\n",
       "      <td>1</td>\n",
       "      <td>1.0</td>\n",
       "      <td>1.0</td>\n",
       "      <td>1</td>\n",
       "    </tr>\n",
       "    <tr>\n",
       "      <th>385</th>\n",
       "      <td>0</td>\n",
       "      <td>0</td>\n",
       "      <td>0</td>\n",
       "      <td>1</td>\n",
       "      <td>1.0</td>\n",
       "      <td>1.0</td>\n",
       "      <td>0.076923</td>\n",
       "      <td>1</td>\n",
       "      <td>1.0</td>\n",
       "      <td>1.0</td>\n",
       "      <td>1</td>\n",
       "    </tr>\n",
       "    <tr>\n",
       "      <th>207</th>\n",
       "      <td>0</td>\n",
       "      <td>0</td>\n",
       "      <td>1</td>\n",
       "      <td>0</td>\n",
       "      <td>0.0</td>\n",
       "      <td>0.0</td>\n",
       "      <td>0.000000</td>\n",
       "      <td>0</td>\n",
       "      <td>0.0</td>\n",
       "      <td>0.0</td>\n",
       "      <td>1</td>\n",
       "    </tr>\n",
       "  </tbody>\n",
       "</table>\n",
       "</div>"
      ],
      "text/plain": [
       "     period_1  period_2  period_3  period_4  remaining_seconds_in_period  \\\n",
       "157         0         1         0         0                          0.0   \n",
       "158         0         1         0         0                          0.0   \n",
       "384         0         0         0         1                          1.0   \n",
       "385         0         0         0         1                          1.0   \n",
       "207         0         0         1         0                          0.0   \n",
       "\n",
       "     game_time  score_diff  at_home  cumulative_field_goals_made  \\\n",
       "157        0.0    0.923077        1                          0.0   \n",
       "158        0.0    1.000000        1                          0.0   \n",
       "384        1.0    0.000000        1                          1.0   \n",
       "385        1.0    0.076923        1                          1.0   \n",
       "207        0.0    0.000000        0                          0.0   \n",
       "\n",
       "     cumulative_field_goals_attempted  free_throw_made  \n",
       "157                               0.0                1  \n",
       "158                               0.0                1  \n",
       "384                               1.0                1  \n",
       "385                               1.0                1  \n",
       "207                               0.0                1  "
      ]
     },
     "execution_count": 73,
     "metadata": {},
     "output_type": "execute_result"
    }
   ],
   "source": [
    "agglomerated_df.head(5)"
   ]
  },
  {
   "cell_type": "markdown",
   "metadata": {},
   "source": [
    "# Machine Learning"
   ]
  },
  {
   "cell_type": "markdown",
   "metadata": {},
   "source": [
    "## Imports"
   ]
  },
  {
   "cell_type": "code",
   "execution_count": 17,
   "metadata": {},
   "outputs": [],
   "source": [
    "from sklearn.model_selection import train_test_split\n",
    "from sklearn.linear_model import LogisticRegression\n",
    "from sklearn import metrics"
   ]
  },
  {
   "cell_type": "markdown",
   "metadata": {},
   "source": [
    "## Selecting features "
   ]
  },
  {
   "cell_type": "code",
   "execution_count": 74,
   "metadata": {},
   "outputs": [],
   "source": [
    "X = agglomerated_df.drop(columns=[\"free_throw_made\"])\n",
    "y = agglomerated_df[\"free_throw_made\"]"
   ]
  },
  {
   "cell_type": "markdown",
   "metadata": {},
   "source": [
    "## Splitting data"
   ]
  },
  {
   "cell_type": "code",
   "execution_count": 75,
   "metadata": {},
   "outputs": [],
   "source": [
    "# Split the data into training and testing sets\n",
    "X_train, X_test, y_train, y_test = train_test_split(X, y, test_size=0.25, random_state=42)"
   ]
  },
  {
   "cell_type": "code",
   "execution_count": 76,
   "metadata": {},
   "outputs": [
    {
     "data": {
      "text/plain": [
       "368    1\n",
       "166    0\n",
       "305    1\n",
       "434    1\n",
       "61     1\n",
       "      ..\n",
       "400    1\n",
       "463    1\n",
       "210    1\n",
       "290    0\n",
       "112    1\n",
       "Name: free_throw_made, Length: 398, dtype: int64"
      ]
     },
     "execution_count": 76,
     "metadata": {},
     "output_type": "execute_result"
    }
   ],
   "source": [
    "y_train"
   ]
  },
  {
   "cell_type": "markdown",
   "metadata": {},
   "source": [
    "## Model development and prediction"
   ]
  },
  {
   "cell_type": "code",
   "execution_count": 77,
   "metadata": {},
   "outputs": [],
   "source": [
    "logreg = LogisticRegression(random_state=16)\n",
    "\n",
    "logreg.fit(X_train, y_train)\n",
    "\n",
    "y_pred = logreg.predict(X_test)"
   ]
  },
  {
   "cell_type": "markdown",
   "metadata": {},
   "source": [
    "## Evaluation"
   ]
  },
  {
   "cell_type": "code",
   "execution_count": 78,
   "metadata": {},
   "outputs": [
    {
     "data": {
      "text/plain": [
       "array([[  0,  31],\n",
       "       [  0, 102]])"
      ]
     },
     "execution_count": 78,
     "metadata": {},
     "output_type": "execute_result"
    }
   ],
   "source": [
    "# import the metrics class\n",
    "\n",
    "cnf_matrix = metrics.confusion_matrix(y_test, y_pred)\n",
    "cnf_matrix"
   ]
  },
  {
   "cell_type": "code",
   "execution_count": 84,
   "metadata": {},
   "outputs": [
    {
     "data": {
      "image/png": "[encoded data removed]",
      "text/plain": [
       "<Figure size 640x480 with 2 Axes>"
      ]
     },
     "metadata": {},
     "output_type": "display_data"
    }
   ],
   "source": [
    "# import required modules\n",
    "import numpy as np\n",
    "import matplotlib.pyplot as plt\n",
    "import seaborn as sns\n",
    "\n",
    "class_names=[0,1] # name  of classes\n",
    "fig, ax = plt.subplots()\n",
    "tick_marks = np.arange(len(class_names))\n",
    "plt.xticks(tick_marks, class_names)\n",
    "plt.yticks(tick_marks, class_names)\n",
    "# create heatmap\n",
    "sns.heatmap(pd.DataFrame(cnf_matrix), annot=True, cmap=\"YlGnBu\" ,fmt='g')\n",
    "ax.xaxis.set_label_position(\"top\")\n",
    "plt.tight_layout()\n",
    "plt.title('Confusion matrix', y=1.1)\n",
    "plt.ylabel('Actual label')\n",
    "plt.xlabel('Predicted label')\n",
    "plt.show()"
   ]
  },
  {
   "cell_type": "code",
   "execution_count": 85,
   "metadata": {},
   "outputs": [
    {
     "data": {
      "image/png": "[encoded data removed]",
      "text/plain": [
       "<Figure size 640x480 with 1 Axes>"
      ]
     },
     "metadata": {},
     "output_type": "display_data"
    }
   ],
   "source": [
    "y_pred_proba = logreg.predict_proba(X_test)[::,1]\n",
    "fpr, tpr, _ = metrics.roc_curve(y_test,  y_pred_proba)\n",
    "auc = metrics.roc_auc_score(y_test, y_pred_proba)\n",
    "plt.plot(fpr,tpr,label=\"data 1, auc=\"+str(auc))\n",
    "plt.legend(loc=4)\n",
    "plt.show()"
   ]
  },
  {
   "cell_type": "code",
   "execution_count": 80,
   "metadata": {},
   "outputs": [
    {
     "name": "stdout",
     "output_type": "stream",
     "text": [
      "                   precision    recall  f1-score   support\n",
      "\n",
      "  Made free throw       0.00      0.00      0.00        31\n",
      "Missed free throw       0.77      1.00      0.87       102\n",
      "\n",
      "         accuracy                           0.77       133\n",
      "        macro avg       0.38      0.50      0.43       133\n",
      "     weighted avg       0.59      0.77      0.67       133\n",
      "\n"
     ]
    },
    {
     "name": "stderr",
     "output_type": "stream",
     "text": [
      "c:\\Users\\aydin\\anaconda3\\envs\\bball\\Lib\\site-packages\\sklearn\\metrics\\_classification.py:1531: UndefinedMetricWarning: Precision is ill-defined and being set to 0.0 in labels with no predicted samples. Use `zero_division` parameter to control this behavior.\n",
      "  _warn_prf(average, modifier, f\"{metric.capitalize()} is\", len(result))\n",
      "c:\\Users\\aydin\\anaconda3\\envs\\bball\\Lib\\site-packages\\sklearn\\metrics\\_classification.py:1531: UndefinedMetricWarning: Precision is ill-defined and being set to 0.0 in labels with no predicted samples. Use `zero_division` parameter to control this behavior.\n",
      "  _warn_prf(average, modifier, f\"{metric.capitalize()} is\", len(result))\n",
      "c:\\Users\\aydin\\anaconda3\\envs\\bball\\Lib\\site-packages\\sklearn\\metrics\\_classification.py:1531: UndefinedMetricWarning: Precision is ill-defined and being set to 0.0 in labels with no predicted samples. Use `zero_division` parameter to control this behavior.\n",
      "  _warn_prf(average, modifier, f\"{metric.capitalize()} is\", len(result))\n"
     ]
    }
   ],
   "source": [
    "from sklearn.metrics import classification_report\n",
    "\n",
    "target_names = ['Made free throw', \"Missed free throw\"]\n",
    "print(classification_report(y_test, y_pred, target_names=target_names))"
   ]
  }
 ],
 "metadata": {
  "kernelspec": {
   "display_name": "bball",
   "language": "python",
   "name": "python3"
  },
  "language_info": {
   "codemirror_mode": {
    "name": "ipython",
    "version": 3
   },
   "file_extension": ".py",
   "mimetype": "text/x-python",
   "name": "python",
   "nbconvert_exporter": "python",
   "pygments_lexer": "ipython3",
   "version": "3.12.5"
  }
 },
 "nbformat": 4,
 "nbformat_minor": 2
}
