{
 "cells": [
  {
   "cell_type": "markdown",
   "metadata": {},
   "source": [
    "Author: Aydin Najl Hossaini  \n",
    "Date: 24/08/2024"
   ]
  },
  {
   "cell_type": "markdown",
   "metadata": {},
   "source": [
    "# Imports"
   ]
  },
  {
   "cell_type": "code",
   "execution_count": 1,
   "metadata": {},
   "outputs": [],
   "source": [
    "import pandas as pd\n",
    "from tqdm.notebook import  tqdm\n",
    "import os"
   ]
  },
  {
   "cell_type": "code",
   "execution_count": null,
   "metadata": {},
   "outputs": [
    {
     "data": {
      "text/plain": [
       "dict_values([1, 2, 3, 4, 5, 6, 7, 8, 9, 10, 11, 12, 13, 14, 15, 16, 17, 18, 19, 20, 21])"
      ]
     },
     "metadata": {},
     "output_type": "display_data"
    }
   ],
   "source": [
    "# All game ids in pbp_games folder\n",
    "game_names = [name for name in os.listdir(\"pbp_games\") if name.endswith(\"csv\")]\n",
    "\n",
    "game_ids = [id for id in range(1, len(game_names) + 1)]\n",
    "game_id_map = dict(zip(game_names, game_ids))\n",
    "\n"
   ]
  },
  {
   "cell_type": "markdown",
   "metadata": {},
   "source": [
    "# Data processing"
   ]
  },
  {
   "cell_type": "markdown",
   "metadata": {},
   "source": [
    "## Options"
   ]
  },
  {
   "cell_type": "code",
   "execution_count": 2,
   "metadata": {},
   "outputs": [],
   "source": [
    "pd.options.mode.copy_on_write = True # Allows for chained assignment \n",
    "LBJ_life_ft_percent = 73.6"
   ]
  },
  {
   "cell_type": "markdown",
   "metadata": {},
   "source": [
    "## Game ids"
   ]
  },
  {
   "cell_type": "code",
   "execution_count": 3,
   "metadata": {},
   "outputs": [],
   "source": [
    "# All game ids in pbp_games folder\n",
    "game_names = [name for name in os.listdir(\"pbp_games\") if name.endswith(\"csv\")]\n",
    "\n",
    "game_ids = [id for id in range(1, len(game_names) + 1)]\n",
    "game_id_map = dict(zip(game_names, game_ids))\n"
   ]
  },
  {
   "cell_type": "code",
   "execution_count": 5,
   "metadata": {},
   "outputs": [
    {
     "name": "stdout",
     "output_type": "stream",
     "text": [
      "<class 'pandas.core.frame.DataFrame'>\n",
      "RangeIndex: 465 entries, 0 to 464\n",
      "Data columns (total 9 columns):\n",
      " #   Column                       Non-Null Count  Dtype  \n",
      "---  ------                       --------------  -----  \n",
      " 0   period                       465 non-null    int64  \n",
      " 1   period_type                  465 non-null    object \n",
      " 2   remaining_seconds_in_period  465 non-null    float64\n",
      " 3   relevant_team                465 non-null    object \n",
      " 4   away_team                    465 non-null    object \n",
      " 5   home_team                    465 non-null    object \n",
      " 6   away_score                   465 non-null    int64  \n",
      " 7   home_score                   465 non-null    int64  \n",
      " 8   description                  465 non-null    object \n",
      "dtypes: float64(1), int64(3), object(5)\n",
      "memory usage: 32.8+ KB\n"
     ]
    }
   ],
   "source": [
    "# Test one game\n",
    "game = pd.read_csv(\"pbp_games/2017_10_17_CLE_PBP_HOME.csv\")\n",
    "game.info()\n",
    "\n",
    "# TODO: Add game id column to each game\n",
    "# TODO: functionize each column add section so that it can be applied to each game\n",
    "# for name, id in game_id_map.items():\n",
    "#     game = pd.read_csv(\"pbp_games/\" + name)\n",
    "#     game[\"game_id\"] = id\n",
    "    \n"
   ]
  },
  {
   "cell_type": "code",
   "execution_count": 2,
   "metadata": {},
   "outputs": [
    {
     "data": {
      "text/html": [
       "<div>\n",
       "<style scoped>\n",
       "    .dataframe tbody tr th:only-of-type {\n",
       "        vertical-align: middle;\n",
       "    }\n",
       "\n",
       "    .dataframe tbody tr th {\n",
       "        vertical-align: top;\n",
       "    }\n",
       "\n",
       "    .dataframe thead th {\n",
       "        text-align: right;\n",
       "    }\n",
       "</style>\n",
       "<table border=\"1\" class=\"dataframe\">\n",
       "  <thead>\n",
       "    <tr style=\"text-align: right;\">\n",
       "      <th></th>\n",
       "      <th>period</th>\n",
       "      <th>period_type</th>\n",
       "      <th>remaining_seconds_in_period</th>\n",
       "      <th>relevant_team</th>\n",
       "      <th>away_team</th>\n",
       "      <th>home_team</th>\n",
       "      <th>away_score</th>\n",
       "      <th>home_score</th>\n",
       "      <th>description</th>\n",
       "    </tr>\n",
       "  </thead>\n",
       "  <tbody>\n",
       "    <tr>\n",
       "      <th>0</th>\n",
       "      <td>1</td>\n",
       "      <td>QUARTER</td>\n",
       "      <td>704.0</td>\n",
       "      <td>BOSTON CELTICS</td>\n",
       "      <td>BOSTON CELTICS</td>\n",
       "      <td>CLEVELAND CAVALIERS</td>\n",
       "      <td>2</td>\n",
       "      <td>0</td>\n",
       "      <td>K. Irving makes 2-pt jump shot from 10 ft (ass...</td>\n",
       "    </tr>\n",
       "    <tr>\n",
       "      <th>1</th>\n",
       "      <td>1</td>\n",
       "      <td>QUARTER</td>\n",
       "      <td>687.0</td>\n",
       "      <td>CLEVELAND CAVALIERS</td>\n",
       "      <td>BOSTON CELTICS</td>\n",
       "      <td>CLEVELAND CAVALIERS</td>\n",
       "      <td>2</td>\n",
       "      <td>0</td>\n",
       "      <td>D. Rose misses 2-pt layup from 1 ft (block by ...</td>\n",
       "    </tr>\n",
       "  </tbody>\n",
       "</table>\n",
       "</div>"
      ],
      "text/plain": [
       "   period period_type  remaining_seconds_in_period        relevant_team  \\\n",
       "0       1     QUARTER                        704.0       BOSTON CELTICS   \n",
       "1       1     QUARTER                        687.0  CLEVELAND CAVALIERS   \n",
       "\n",
       "        away_team            home_team  away_score  home_score  \\\n",
       "0  BOSTON CELTICS  CLEVELAND CAVALIERS           2           0   \n",
       "1  BOSTON CELTICS  CLEVELAND CAVALIERS           2           0   \n",
       "\n",
       "                                         description  \n",
       "0  K. Irving makes 2-pt jump shot from 10 ft (ass...  \n",
       "1  D. Rose misses 2-pt layup from 1 ft (block by ...  "
      ]
     },
     "execution_count": 2,
     "metadata": {},
     "output_type": "execute_result"
    }
   ],
   "source": [
    "game.head(2)"
   ]
  },
  {
   "cell_type": "markdown",
   "metadata": {},
   "source": [
    "## Decide on features\n",
    " 1. Time remaining in the quarter\n",
    " 2. Score difference\n",
    " 3. Home/Away team\n",
    " 4. Period\n",
    " 5. how many made shots in the game (=FG%)  \n",
    "     Obtain this through the description column and filter for \"makes\" and \"misses\" on player level\n",
    "        Notable words:  \n",
    "        misses 2-pt  \n",
    "        misses 3-pt  \n",
    "        misses free throw  \n",
    "        makes free throw  \n",
    "        makes 2-pt  \n",
    "        makes 3-pt  \n",
    "6. minutes played\n"
   ]
  },
  {
   "cell_type": "code",
   "execution_count": 7,
   "metadata": {},
   "outputs": [],
   "source": [
    "# Add unique event id for join\n",
    "def add_event_id_col(game : pd.DataFrame):\n",
    "    game[\"event_id\"] = range(1, len(game) + 1)\n",
    "    return game"
   ]
  },
  {
   "cell_type": "code",
   "execution_count": 8,
   "metadata": {},
   "outputs": [],
   "source": [
    "# Transfer period type + remaining_seconds_in_period to a time format\n",
    "# Full quarter has 720 seconds, therefore 720 - remaining_seconds_in_period = seconds played in the quarter\n",
    "# If quarter is 2, 2*720 - remaining_seconds_in_period ;  3 + 3*720 - ..., 4 + 4*720 - ... \n",
    "# Adds game_time passed column\n",
    "def add_game_time_col(game: pd.DataFrame):\n",
    "    game[\"game_time\"] = game.apply(lambda x: x['period']*720 - x['remaining_seconds_in_period'], axis=1)\n",
    "    return game"
   ]
  },
  {
   "cell_type": "markdown",
   "metadata": {},
   "source": [
    "## Add score difference column"
   ]
  },
  {
   "cell_type": "code",
   "execution_count": 11,
   "metadata": {},
   "outputs": [],
   "source": [
    "# Necessary function due to some games played away\n",
    "def game_diff(row):\n",
    "    \"\"\" Calculate the score difference for each game \"\"\"\n",
    "\n",
    "    if row[\"home_team\"] == \"CLEVELAND CAVALIERS\":\n",
    "        return row[\"home_score\"] - row[\"away_score\"]\n",
    "    elif row[\"away_team\"] == \"CLEVELAND CAVALIERS\":\n",
    "        return row[\"away_score\"] - row[\"home_score\"]\n",
    "    else:\n",
    "        raise Exception(\"Cavs not in the game\")\n",
    "    \n",
    "# Adds score diff column\n",
    "def add_score_diff_col(game: pd.DataFrame):\n",
    "    game[\"score_diff\"] = game.apply(game_diff, axis=1)\n",
    "    return game"
   ]
  },
  {
   "cell_type": "markdown",
   "metadata": {},
   "source": [
    "## Plays at home column"
   ]
  },
  {
   "cell_type": "code",
   "execution_count": 12,
   "metadata": {},
   "outputs": [],
   "source": [
    "# Adds at_home column\n",
    "def add_at_home_col(game: pd.DataFrame):\n",
    "    game[\"at_home\"] = game[\"home_team\"] == \"CLEVELAND CAVALIERS\"\n",
    "    return game"
   ]
  },
  {
   "cell_type": "code",
   "execution_count": 7,
   "metadata": {},
   "outputs": [],
   "source": [
    "# Playing time very hard to quantify due to starters and starters of quarters being unknown\n",
    "\n",
    "# game[game[\"description\"].str.contains(\"enters the game for L. James\")]\n",
    "# game[game[\"description\"].str.contains(\"L. James enters the game for\")]\n"
   ]
  },
  {
   "cell_type": "markdown",
   "metadata": {},
   "source": [
    "## Calculating cum FGM with new DF"
   ]
  },
  {
   "cell_type": "code",
   "execution_count": 14,
   "metadata": {},
   "outputs": [],
   "source": [
    "def create_fg_df(game: pd.DataFrame):\n",
    "    '''\n",
    "    Selects Lebron FGs based on keywords and adds cumulative count of FGs as column\n",
    "    '''\n",
    "    # Selects all the field goals made by Lebron\n",
    "    field_goals = game[game[\"description\"].str.contains(\"L. James\") & game[\"relevant_team\"].str.contains(\"CLE\") \n",
    "                    &~ game[\"description\"].str.contains(\"assist by L. James\") &~ game[\"description\"].str.contains(\"free throw\")]\n",
    "        \n",
    "\n",
    "    made_mask = field_goals['description'].str.contains('makes 2-pt|makes 3-pt')\n",
    "    attempted_mask = field_goals['description'].str.contains('makes 2-pt|misses 2-pt|makes 3-pt|misses 3-pt')\n",
    "\n",
    "    # Adds field goals made and attempted columns\n",
    "    field_goals.loc[:, 'field_goals_made'] = made_mask.astype(int)\n",
    "    field_goals.loc[:, 'field_goals_attempted'] = attempted_mask.astype(int)\n",
    "\n",
    "    # Create cumulative totals columns using .loc\n",
    "    field_goals.loc[:, 'cumulative_field_goals_made'] = field_goals['field_goals_made'].cumsum()\n",
    "    field_goals.loc[:, 'cumulative_field_goals_attempted'] = field_goals['field_goals_attempted'].cumsum()\n",
    "    \n",
    "    return field_goals\n",
    "\n",
    "\n"
   ]
  },
  {
   "cell_type": "markdown",
   "metadata": {},
   "source": [
    "## Merge dataframes to contain all features"
   ]
  },
  {
   "cell_type": "code",
   "execution_count": 4,
   "metadata": {},
   "outputs": [],
   "source": [
    "def add_fg_cols(game: pd.DataFrame):\n",
    "    '''\n",
    "    Create new Dataframe including cum FGM and cum FGA\n",
    "    '''\n",
    "    # Create new DF with FGs \n",
    "    field_goals = create_fg_df(game)\n",
    "\n",
    "    # Merge the game and field goals dataframes to get the cumulative field goals made and attempted\n",
    "    joined_df = pd.merge(game, \n",
    "                        field_goals[['event_id', 'cumulative_field_goals_made', 'cumulative_field_goals_attempted']],\n",
    "                        on='event_id', \n",
    "                        how='left')\n",
    "\n",
    "    # Forward fill the NaN values so highest number is used\n",
    "    joined_df['cumulative_field_goals_made'] = joined_df['cumulative_field_goals_made'].ffill().fillna(0)\n",
    "    joined_df['cumulative_field_goals_attempted'] = joined_df['cumulative_field_goals_attempted'].ffill().fillna(0)\n",
    "    \n",
    "    return joined_df\n"
   ]
  },
  {
   "cell_type": "markdown",
   "metadata": {},
   "source": [
    "## Select free throws rows for prediction"
   ]
  },
  {
   "cell_type": "code",
   "execution_count": 19,
   "metadata": {},
   "outputs": [],
   "source": [
    "def create_ft_df(joined_df: pd.DataFrame):\n",
    "\n",
    "    # Select all the free throws attempted by Lebron\n",
    "    joined_df[joined_df[\"description\"].str.contains(\"L. James\") & joined_df[\"description\"].str.contains(\"free throw\")] # 2. Lebron made 8 free throws in the game\n",
    "    \n",
    "    # If madea free throw is in the description, add a column free_throw_made\n",
    "    joined_df[\"free_throw_made\"] = joined_df[\"description\"].str.contains(\"makes free throw\").astype(int)\n",
    "\n",
    "    free_throws = joined_df[joined_df[\"description\"].str.contains(\"L. James\") & joined_df[\"description\"].str.contains(\"free throw\")]\n",
    "\n",
    "    return free_throws"
   ]
  },
  {
   "cell_type": "code",
   "execution_count": 23,
   "metadata": {},
   "outputs": [
    {
     "data": {
      "text/html": [
       "<div>\n",
       "<style scoped>\n",
       "    .dataframe tbody tr th:only-of-type {\n",
       "        vertical-align: middle;\n",
       "    }\n",
       "\n",
       "    .dataframe tbody tr th {\n",
       "        vertical-align: top;\n",
       "    }\n",
       "\n",
       "    .dataframe thead th {\n",
       "        text-align: right;\n",
       "    }\n",
       "</style>\n",
       "<table border=\"1\" class=\"dataframe\">\n",
       "  <thead>\n",
       "    <tr style=\"text-align: right;\">\n",
       "      <th></th>\n",
       "      <th>period</th>\n",
       "      <th>period_type</th>\n",
       "      <th>remaining_seconds_in_period</th>\n",
       "      <th>relevant_team</th>\n",
       "      <th>away_team</th>\n",
       "      <th>home_team</th>\n",
       "      <th>away_score</th>\n",
       "      <th>home_score</th>\n",
       "      <th>description</th>\n",
       "      <th>event_id</th>\n",
       "      <th>game_time</th>\n",
       "      <th>score_diff</th>\n",
       "      <th>at_home</th>\n",
       "      <th>cumulative_field_goals_made</th>\n",
       "      <th>cumulative_field_goals_attempted</th>\n",
       "    </tr>\n",
       "  </thead>\n",
       "  <tbody>\n",
       "    <tr>\n",
       "      <th>157</th>\n",
       "      <td>2</td>\n",
       "      <td>QUARTER</td>\n",
       "      <td>454.0</td>\n",
       "      <td>CLEVELAND CAVALIERS</td>\n",
       "      <td>BOSTON CELTICS</td>\n",
       "      <td>CLEVELAND CAVALIERS</td>\n",
       "      <td>25</td>\n",
       "      <td>37</td>\n",
       "      <td>L. James makes free throw 1 of 2</td>\n",
       "      <td>158</td>\n",
       "      <td>986.0</td>\n",
       "      <td>12</td>\n",
       "      <td>True</td>\n",
       "      <td>4.0</td>\n",
       "      <td>6.0</td>\n",
       "    </tr>\n",
       "    <tr>\n",
       "      <th>158</th>\n",
       "      <td>2</td>\n",
       "      <td>QUARTER</td>\n",
       "      <td>454.0</td>\n",
       "      <td>CLEVELAND CAVALIERS</td>\n",
       "      <td>BOSTON CELTICS</td>\n",
       "      <td>CLEVELAND CAVALIERS</td>\n",
       "      <td>25</td>\n",
       "      <td>38</td>\n",
       "      <td>L. James makes free throw 2 of 2</td>\n",
       "      <td>159</td>\n",
       "      <td>986.0</td>\n",
       "      <td>13</td>\n",
       "      <td>True</td>\n",
       "      <td>4.0</td>\n",
       "      <td>6.0</td>\n",
       "    </tr>\n",
       "    <tr>\n",
       "      <th>384</th>\n",
       "      <td>4</td>\n",
       "      <td>QUARTER</td>\n",
       "      <td>519.0</td>\n",
       "      <td>CLEVELAND CAVALIERS</td>\n",
       "      <td>BOSTON CELTICS</td>\n",
       "      <td>CLEVELAND CAVALIERS</td>\n",
       "      <td>79</td>\n",
       "      <td>79</td>\n",
       "      <td>L. James makes free throw 1 of 2</td>\n",
       "      <td>385</td>\n",
       "      <td>2361.0</td>\n",
       "      <td>0</td>\n",
       "      <td>True</td>\n",
       "      <td>8.0</td>\n",
       "      <td>13.0</td>\n",
       "    </tr>\n",
       "    <tr>\n",
       "      <th>385</th>\n",
       "      <td>4</td>\n",
       "      <td>QUARTER</td>\n",
       "      <td>519.0</td>\n",
       "      <td>CLEVELAND CAVALIERS</td>\n",
       "      <td>BOSTON CELTICS</td>\n",
       "      <td>CLEVELAND CAVALIERS</td>\n",
       "      <td>79</td>\n",
       "      <td>80</td>\n",
       "      <td>L. James makes free throw 2 of 2</td>\n",
       "      <td>386</td>\n",
       "      <td>2361.0</td>\n",
       "      <td>1</td>\n",
       "      <td>True</td>\n",
       "      <td>8.0</td>\n",
       "      <td>13.0</td>\n",
       "    </tr>\n",
       "  </tbody>\n",
       "</table>\n",
       "</div>"
      ],
      "text/plain": [
       "     period period_type  remaining_seconds_in_period        relevant_team  \\\n",
       "157       2     QUARTER                        454.0  CLEVELAND CAVALIERS   \n",
       "158       2     QUARTER                        454.0  CLEVELAND CAVALIERS   \n",
       "384       4     QUARTER                        519.0  CLEVELAND CAVALIERS   \n",
       "385       4     QUARTER                        519.0  CLEVELAND CAVALIERS   \n",
       "\n",
       "          away_team            home_team  away_score  home_score  \\\n",
       "157  BOSTON CELTICS  CLEVELAND CAVALIERS          25          37   \n",
       "158  BOSTON CELTICS  CLEVELAND CAVALIERS          25          38   \n",
       "384  BOSTON CELTICS  CLEVELAND CAVALIERS          79          79   \n",
       "385  BOSTON CELTICS  CLEVELAND CAVALIERS          79          80   \n",
       "\n",
       "                          description  event_id  game_time  score_diff  \\\n",
       "157  L. James makes free throw 1 of 2       158      986.0          12   \n",
       "158  L. James makes free throw 2 of 2       159      986.0          13   \n",
       "384  L. James makes free throw 1 of 2       385     2361.0           0   \n",
       "385  L. James makes free throw 2 of 2       386     2361.0           1   \n",
       "\n",
       "     at_home  cumulative_field_goals_made  cumulative_field_goals_attempted  \n",
       "157     True                          4.0                               6.0  \n",
       "158     True                          4.0                               6.0  \n",
       "384     True                          8.0                              13.0  \n",
       "385     True                          8.0                              13.0  "
      ]
     },
     "execution_count": 23,
     "metadata": {},
     "output_type": "execute_result"
    }
   ],
   "source": [
    "def preprocess_game(game: pd.DataFrame):\n",
    "    '''\n",
    "    Adds multiple columns to the dataframe\n",
    "    '''\n",
    "    game = add_event_id_col(game)\n",
    "    game = add_game_time_col(game)\n",
    "    game = add_score_diff_col(game)\n",
    "    game = add_at_home_col(game)\n",
    "    return game\n",
    "\n",
    "game = preprocess_game(game)\n",
    "joined_df = add_fg_cols(game)\n",
    "free_throws = create_ft_df(joined_df)\n",
    "\n",
    "free_throws"
   ]
  },
  {
   "cell_type": "markdown",
   "metadata": {},
   "source": [
    "# Machine Learning"
   ]
  },
  {
   "cell_type": "markdown",
   "metadata": {},
   "source": [
    "## Imports"
   ]
  },
  {
   "cell_type": "code",
   "execution_count": 13,
   "metadata": {},
   "outputs": [],
   "source": [
    "from sklearn.preprocessing import StandardScaler, OneHotEncoder\n",
    "from sklearn.model_selection import train_test_split\n",
    "from sklearn.linear_model import LogisticRegression\n",
    "from sklearn import metrics"
   ]
  },
  {
   "cell_type": "markdown",
   "metadata": {},
   "source": [
    "## Selecting features "
   ]
  },
  {
   "cell_type": "code",
   "execution_count": 14,
   "metadata": {},
   "outputs": [],
   "source": [
    "X = free_throws.drop(columns=['away_team', 'home_team', 'away_score', 'home_score', 'description', 'relevant_team', 'period_type', \"event_id\", \"free_throw_made\"])\n",
    "X[\"at_home\"]  = X[\"at_home\"].astype(int)\n",
    "y = free_throws[\"free_throw_made\"]"
   ]
  },
  {
   "cell_type": "markdown",
   "metadata": {},
   "source": [
    "### Scaling columns"
   ]
  },
  {
   "cell_type": "code",
   "execution_count": 15,
   "metadata": {},
   "outputs": [
    {
     "data": {
      "text/html": [
       "<div>\n",
       "<style scoped>\n",
       "    .dataframe tbody tr th:only-of-type {\n",
       "        vertical-align: middle;\n",
       "    }\n",
       "\n",
       "    .dataframe tbody tr th {\n",
       "        vertical-align: top;\n",
       "    }\n",
       "\n",
       "    .dataframe thead th {\n",
       "        text-align: right;\n",
       "    }\n",
       "</style>\n",
       "<table border=\"1\" class=\"dataframe\">\n",
       "  <thead>\n",
       "    <tr style=\"text-align: right;\">\n",
       "      <th></th>\n",
       "      <th>period</th>\n",
       "      <th>remaining_seconds_in_period</th>\n",
       "      <th>game_time</th>\n",
       "      <th>score_diff</th>\n",
       "      <th>at_home</th>\n",
       "      <th>cumulative_field_goals_made</th>\n",
       "      <th>cumulative_field_goals_attempted</th>\n",
       "    </tr>\n",
       "  </thead>\n",
       "  <tbody>\n",
       "    <tr>\n",
       "      <th>157</th>\n",
       "      <td>2</td>\n",
       "      <td>-1.0</td>\n",
       "      <td>986.0</td>\n",
       "      <td>0.913500</td>\n",
       "      <td>1</td>\n",
       "      <td>-1.0</td>\n",
       "      <td>-1.0</td>\n",
       "    </tr>\n",
       "    <tr>\n",
       "      <th>158</th>\n",
       "      <td>2</td>\n",
       "      <td>-1.0</td>\n",
       "      <td>986.0</td>\n",
       "      <td>1.079591</td>\n",
       "      <td>1</td>\n",
       "      <td>-1.0</td>\n",
       "      <td>-1.0</td>\n",
       "    </tr>\n",
       "    <tr>\n",
       "      <th>384</th>\n",
       "      <td>4</td>\n",
       "      <td>1.0</td>\n",
       "      <td>2361.0</td>\n",
       "      <td>-1.079591</td>\n",
       "      <td>1</td>\n",
       "      <td>1.0</td>\n",
       "      <td>1.0</td>\n",
       "    </tr>\n",
       "    <tr>\n",
       "      <th>385</th>\n",
       "      <td>4</td>\n",
       "      <td>1.0</td>\n",
       "      <td>2361.0</td>\n",
       "      <td>-0.913500</td>\n",
       "      <td>1</td>\n",
       "      <td>1.0</td>\n",
       "      <td>1.0</td>\n",
       "    </tr>\n",
       "  </tbody>\n",
       "</table>\n",
       "</div>"
      ],
      "text/plain": [
       "     period  remaining_seconds_in_period  game_time  score_diff  at_home  \\\n",
       "157       2                         -1.0      986.0    0.913500        1   \n",
       "158       2                         -1.0      986.0    1.079591        1   \n",
       "384       4                          1.0     2361.0   -1.079591        1   \n",
       "385       4                          1.0     2361.0   -0.913500        1   \n",
       "\n",
       "     cumulative_field_goals_made  cumulative_field_goals_attempted  \n",
       "157                         -1.0                              -1.0  \n",
       "158                         -1.0                              -1.0  \n",
       "384                          1.0                               1.0  \n",
       "385                          1.0                               1.0  "
      ]
     },
     "execution_count": 15,
     "metadata": {},
     "output_type": "execute_result"
    }
   ],
   "source": [
    "# Scale the continuous columns \n",
    "cols_to_scale = ['remaining_seconds_in_period', 'score_diff', \n",
    "                 'cumulative_field_goals_made', 'cumulative_field_goals_attempted']\n",
    "\n",
    "X[cols_to_scale] = StandardScaler().fit_transform(X[cols_to_scale])\n",
    "X"
   ]
  },
  {
   "cell_type": "markdown",
   "metadata": {},
   "source": [
    "### One hot encode categorical features"
   ]
  },
  {
   "cell_type": "code",
   "execution_count": 16,
   "metadata": {},
   "outputs": [
    {
     "data": {
      "text/html": [
       "<div>\n",
       "<style scoped>\n",
       "    .dataframe tbody tr th:only-of-type {\n",
       "        vertical-align: middle;\n",
       "    }\n",
       "\n",
       "    .dataframe tbody tr th {\n",
       "        vertical-align: top;\n",
       "    }\n",
       "\n",
       "    .dataframe thead th {\n",
       "        text-align: right;\n",
       "    }\n",
       "</style>\n",
       "<table border=\"1\" class=\"dataframe\">\n",
       "  <thead>\n",
       "    <tr style=\"text-align: right;\">\n",
       "      <th></th>\n",
       "      <th>period_2</th>\n",
       "      <th>period_4</th>\n",
       "      <th>remaining_seconds_in_period</th>\n",
       "      <th>game_time</th>\n",
       "      <th>score_diff</th>\n",
       "      <th>at_home</th>\n",
       "      <th>cumulative_field_goals_made</th>\n",
       "      <th>cumulative_field_goals_attempted</th>\n",
       "    </tr>\n",
       "  </thead>\n",
       "  <tbody>\n",
       "    <tr>\n",
       "      <th>157</th>\n",
       "      <td>1</td>\n",
       "      <td>0</td>\n",
       "      <td>-1.0</td>\n",
       "      <td>986.0</td>\n",
       "      <td>0.913500</td>\n",
       "      <td>1</td>\n",
       "      <td>-1.0</td>\n",
       "      <td>-1.0</td>\n",
       "    </tr>\n",
       "    <tr>\n",
       "      <th>158</th>\n",
       "      <td>1</td>\n",
       "      <td>0</td>\n",
       "      <td>-1.0</td>\n",
       "      <td>986.0</td>\n",
       "      <td>1.079591</td>\n",
       "      <td>1</td>\n",
       "      <td>-1.0</td>\n",
       "      <td>-1.0</td>\n",
       "    </tr>\n",
       "    <tr>\n",
       "      <th>384</th>\n",
       "      <td>0</td>\n",
       "      <td>1</td>\n",
       "      <td>1.0</td>\n",
       "      <td>2361.0</td>\n",
       "      <td>-1.079591</td>\n",
       "      <td>1</td>\n",
       "      <td>1.0</td>\n",
       "      <td>1.0</td>\n",
       "    </tr>\n",
       "    <tr>\n",
       "      <th>385</th>\n",
       "      <td>0</td>\n",
       "      <td>1</td>\n",
       "      <td>1.0</td>\n",
       "      <td>2361.0</td>\n",
       "      <td>-0.913500</td>\n",
       "      <td>1</td>\n",
       "      <td>1.0</td>\n",
       "      <td>1.0</td>\n",
       "    </tr>\n",
       "  </tbody>\n",
       "</table>\n",
       "</div>"
      ],
      "text/plain": [
       "     period_2  period_4  remaining_seconds_in_period  game_time  score_diff  \\\n",
       "157         1         0                         -1.0      986.0    0.913500   \n",
       "158         1         0                         -1.0      986.0    1.079591   \n",
       "384         0         1                          1.0     2361.0   -1.079591   \n",
       "385         0         1                          1.0     2361.0   -0.913500   \n",
       "\n",
       "     at_home  cumulative_field_goals_made  cumulative_field_goals_attempted  \n",
       "157        1                         -1.0                              -1.0  \n",
       "158        1                         -1.0                              -1.0  \n",
       "384        1                          1.0                               1.0  \n",
       "385        1                          1.0                               1.0  "
      ]
     },
     "execution_count": 16,
     "metadata": {},
     "output_type": "execute_result"
    }
   ],
   "source": [
    "# One hot encode the period column\n",
    "dum_df = pd.get_dummies(X[\"period\"], prefix=\"period\", dtype=int)\n",
    "dum_df = dum_df.join(X)\n",
    "X = dum_df.drop(columns=[\"period\"])\n",
    "\n",
    "X"
   ]
  },
  {
   "cell_type": "code",
   "execution_count": 17,
   "metadata": {},
   "outputs": [
    {
     "data": {
      "text/plain": [
       "157    1\n",
       "158    1\n",
       "384    1\n",
       "385    1\n",
       "Name: free_throw_made, dtype: int64"
      ]
     },
     "execution_count": 17,
     "metadata": {},
     "output_type": "execute_result"
    }
   ],
   "source": [
    "y"
   ]
  },
  {
   "cell_type": "markdown",
   "metadata": {},
   "source": [
    "## Splitting data"
   ]
  },
  {
   "cell_type": "code",
   "execution_count": 18,
   "metadata": {},
   "outputs": [],
   "source": [
    "\n",
    "# Split the data into training and testing sets\n",
    "X_train, X_test, y_train, y_test = train_test_split(X, y, test_size=0.25, random_state=42)"
   ]
  },
  {
   "cell_type": "code",
   "execution_count": 19,
   "metadata": {},
   "outputs": [
    {
     "data": {
      "text/plain": [
       "385    1\n",
       "157    1\n",
       "384    1\n",
       "Name: free_throw_made, dtype: int64"
      ]
     },
     "execution_count": 19,
     "metadata": {},
     "output_type": "execute_result"
    }
   ],
   "source": [
    "y_train"
   ]
  },
  {
   "cell_type": "markdown",
   "metadata": {},
   "source": [
    "## Model development and prediction"
   ]
  },
  {
   "cell_type": "code",
   "execution_count": 20,
   "metadata": {},
   "outputs": [],
   "source": [
    "# TODO does not work because all values are 1 \n",
    "# logreg = LogisticRegression(random_state=16)\n",
    "\n",
    "# logreg.fit(X_train, y_train)\n",
    "\n",
    "# y_pred = logreg.predict(X_test)"
   ]
  },
  {
   "cell_type": "markdown",
   "metadata": {},
   "source": [
    "## Evaluation"
   ]
  },
  {
   "cell_type": "code",
   "execution_count": 21,
   "metadata": {},
   "outputs": [
    {
     "ename": "NameError",
     "evalue": "name 'y_pred' is not defined",
     "output_type": "error",
     "traceback": [
      "\u001b[1;31m---------------------------------------------------------------------------\u001b[0m",
      "\u001b[1;31mNameError\u001b[0m                                 Traceback (most recent call last)",
      "Cell \u001b[1;32mIn[21], line 3\u001b[0m\n\u001b[0;32m      1\u001b[0m \u001b[38;5;66;03m# import the metrics class\u001b[39;00m\n\u001b[1;32m----> 3\u001b[0m cnf_matrix \u001b[38;5;241m=\u001b[39m metrics\u001b[38;5;241m.\u001b[39mconfusion_matrix(y_test, \u001b[43my_pred\u001b[49m)\n\u001b[0;32m      4\u001b[0m cnf_matrix\n",
      "\u001b[1;31mNameError\u001b[0m: name 'y_pred' is not defined"
     ]
    }
   ],
   "source": [
    "# import the metrics class\n",
    "\n",
    "cnf_matrix = metrics.confusion_matrix(y_test, y_pred)\n",
    "cnf_matrix"
   ]
  }
 ],
 "metadata": {
  "kernelspec": {
   "display_name": "bball",
   "language": "python",
   "name": "python3"
  },
  "language_info": {
   "codemirror_mode": {
    "name": "ipython",
    "version": 3
   },
   "file_extension": ".py",
   "mimetype": "text/x-python",
   "name": "python",
   "nbconvert_exporter": "python",
   "pygments_lexer": "ipython3",
   "version": "3.12.5"
  }
 },
 "nbformat": 4,
 "nbformat_minor": 2
}
